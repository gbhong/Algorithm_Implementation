{
 "cells": [
  {
   "cell_type": "markdown",
   "metadata": {},
   "source": [
    "# N-gram and Vectorization\n",
    "* part 1. Build N-gram based Tokenizer\n",
    "<br> - unigram and bigram\n",
    "<br> - N-gram and Tokenization\n",
    "\n",
    "\n",
    "* part 2. DTM and Vectorization\n",
    "<br> - term frequency matrix\n",
    "<br> - text classification with Logistic Regression\n",
    "\n",
    "<br> <참고> \n",
    "<br> https://lovit.github.io/nlp/2018/10/23/ngram/\n",
    "<br> https://soohee410.github.io/compare_tagger\n",
    "<br> https://lovit.github.io/nlp/2018/03/26/from_text_to_matrix/"
   ]
  },
  {
   "cell_type": "code",
   "execution_count": 2,
   "metadata": {},
   "outputs": [],
   "source": [
    "import pandas as pd\n",
    "import numpy as np\n",
    "\n",
    "import os\n",
    "\n",
    "from sklearn.feature_extraction.text import CountVectorizer\n",
    "from sklearn.linear_model import LogisticRegression\n",
    "from sklearn.model_selection import train_test_split"
   ]
  },
  {
   "cell_type": "code",
   "execution_count": 9,
   "metadata": {},
   "outputs": [
    {
     "data": {
      "text/plain": [
       "['3_class_naver_news_200819_test.csv',\n",
       " '3_class_naver_news_200819_train.csv',\n",
       " '2016_filtered_review.txt']"
      ]
     },
     "execution_count": 9,
     "metadata": {},
     "output_type": "execute_result"
    }
   ],
   "source": [
    "# check directory\n",
    "os.listdir('./data/')"
   ]
  },
  {
   "cell_type": "code",
   "execution_count": 96,
   "metadata": {},
   "outputs": [
    {
     "data": {
      "text/html": [
       "<div>\n",
       "<style scoped>\n",
       "    .dataframe tbody tr th:only-of-type {\n",
       "        vertical-align: middle;\n",
       "    }\n",
       "\n",
       "    .dataframe tbody tr th {\n",
       "        vertical-align: top;\n",
       "    }\n",
       "\n",
       "    .dataframe thead th {\n",
       "        text-align: right;\n",
       "    }\n",
       "</style>\n",
       "<table border=\"1\" class=\"dataframe\">\n",
       "  <thead>\n",
       "    <tr style=\"text-align: right;\">\n",
       "      <th></th>\n",
       "      <th>0</th>\n",
       "      <th>1</th>\n",
       "      <th>2</th>\n",
       "      <th>3</th>\n",
       "      <th>4</th>\n",
       "      <th>5</th>\n",
       "      <th>6</th>\n",
       "    </tr>\n",
       "  </thead>\n",
       "  <tbody>\n",
       "    <tr>\n",
       "      <th>0</th>\n",
       "      <td>0</td>\n",
       "      <td>20170108</td>\n",
       "      <td>IT_science</td>\n",
       "      <td>데일리안</td>\n",
       "      <td>‘효자폰’ 갤럭시S7 ‘불효폰’ G5…분위기 극과극</td>\n",
       "      <td>삼성전자 ‘갤럭시S7’ 왼쪽 LG전자 ‘G5’ 오른쪽 모델 이미지 ⓒ각 사 삼성전자...</td>\n",
       "      <td>https://news.naver.com/main/read.nhn?mode=LSD&amp;...</td>\n",
       "    </tr>\n",
       "    <tr>\n",
       "      <th>1</th>\n",
       "      <td>1</td>\n",
       "      <td>20170111</td>\n",
       "      <td>IT_science</td>\n",
       "      <td>디지털타임스</td>\n",
       "      <td>카카오 O2O 플랫폼 사업 윤곽도 못잡아</td>\n",
       "      <td>11월초 공개 O2O 위드 카카오 두달 넘게 모습 드러내지 않아 후발주자로 출시까지...</td>\n",
       "      <td>https://news.naver.com/main/read.nhn?mode=LSD&amp;...</td>\n",
       "    </tr>\n",
       "    <tr>\n",
       "      <th>2</th>\n",
       "      <td>2</td>\n",
       "      <td>20170103</td>\n",
       "      <td>economy</td>\n",
       "      <td>조세일보</td>\n",
       "      <td>동원 고위도高緯度 북대서양 참다랑어 어획 성공</td>\n",
       "      <td>동원산업 대표이사 이명우 은 고위도 高緯度 북대서양 참다랑어를 어획하는데 성공했다고...</td>\n",
       "      <td>https://news.naver.com/main/read.nhn?mode=LSD&amp;...</td>\n",
       "    </tr>\n",
       "  </tbody>\n",
       "</table>\n",
       "</div>"
      ],
      "text/plain": [
       "   0         1           2       3                             4  \\\n",
       "0  0  20170108  IT_science    데일리안  ‘효자폰’ 갤럭시S7 ‘불효폰’ G5…분위기 극과극   \n",
       "1  1  20170111  IT_science  디지털타임스        카카오 O2O 플랫폼 사업 윤곽도 못잡아   \n",
       "2  2  20170103     economy    조세일보     동원 고위도高緯度 북대서양 참다랑어 어획 성공   \n",
       "\n",
       "                                                   5  \\\n",
       "0  삼성전자 ‘갤럭시S7’ 왼쪽 LG전자 ‘G5’ 오른쪽 모델 이미지 ⓒ각 사 삼성전자...   \n",
       "1  11월초 공개 O2O 위드 카카오 두달 넘게 모습 드러내지 않아 후발주자로 출시까지...   \n",
       "2  동원산업 대표이사 이명우 은 고위도 高緯度 북대서양 참다랑어를 어획하는데 성공했다고...   \n",
       "\n",
       "                                                   6  \n",
       "0  https://news.naver.com/main/read.nhn?mode=LSD&...  \n",
       "1  https://news.naver.com/main/read.nhn?mode=LSD&...  \n",
       "2  https://news.naver.com/main/read.nhn?mode=LSD&...  "
      ]
     },
     "execution_count": 96,
     "metadata": {},
     "output_type": "execute_result"
    }
   ],
   "source": [
    "train = pd.read_csv('./data/3_class_naver_news_200819_train.csv', header=None)\n",
    "test = pd.read_csv('./data/3_class_naver_news_200819_test.csv', header=None)\n",
    "train.head(3)"
   ]
  },
  {
   "cell_type": "code",
   "execution_count": 84,
   "metadata": {},
   "outputs": [
    {
     "name": "stdout",
     "output_type": "stream",
     "text": [
      "(10000, 7)\n",
      "\n",
      "<class 'pandas.core.frame.DataFrame'>\n",
      "RangeIndex: 10000 entries, 0 to 9999\n",
      "Data columns (total 7 columns):\n",
      " #   Column  Non-Null Count  Dtype \n",
      "---  ------  --------------  ----- \n",
      " 0   0       10000 non-null  int64 \n",
      " 1   1       10000 non-null  int64 \n",
      " 2   2       10000 non-null  object\n",
      " 3   3       10000 non-null  object\n",
      " 4   4       10000 non-null  object\n",
      " 5   5       10000 non-null  object\n",
      " 6   6       10000 non-null  object\n",
      "dtypes: int64(2), object(5)\n",
      "memory usage: 547.0+ KB\n",
      "None\n"
     ]
    }
   ],
   "source": [
    "print(train.shape)\n",
    "print()\n",
    "print(train.info())"
   ]
  },
  {
   "cell_type": "code",
   "execution_count": 97,
   "metadata": {},
   "outputs": [],
   "source": [
    "colnames = ['index', 'date', 'category', 'media', 'title', 'contents', 'link']\n",
    "train.columns = colnames\n",
    "test.columns = colnames"
   ]
  },
  {
   "cell_type": "markdown",
   "metadata": {},
   "source": [
    "## MeCab-based tokenization example"
   ]
  },
  {
   "cell_type": "code",
   "execution_count": 150,
   "metadata": {},
   "outputs": [
    {
     "name": "stdout",
     "output_type": "stream",
     "text": [
      "[('‘', 'SY'), ('효자', 'NNG'), ('폰', 'NNG'), ('’', 'SY'), ('갤럭시', 'NNP'), ('S', 'SL'), ('7', 'SN'), ('‘', 'SY'), ('불효', 'NNG'), ('폰', 'NNG'), ('’', 'SY'), ('G', 'SL'), ('5', 'SN'), ('…', 'SE'), ('분위기', 'NNG'), ('극', 'NNG'), ('과', 'JC'), ('극', 'NNG')]\n"
     ]
    }
   ],
   "source": [
    "# tokenization with Mecab\n",
    "from konlpy.tag import Mecab\n",
    "mecab = Mecab()\n",
    "print(mecab.pos(train['title'][0]))"
   ]
  },
  {
   "cell_type": "markdown",
   "metadata": {},
   "source": [
    "## 1. N-gram extraction to build pre-trained dict\n",
    "<br> 10,000개의 train data를 활용해서 n-gram dict를 만듭니다"
   ]
  },
  {
   "cell_type": "code",
   "execution_count": 106,
   "metadata": {
    "scrolled": false
   },
   "outputs": [
    {
     "name": "stdout",
     "output_type": "stream",
     "text": [
      "processing 0th document...\n",
      "processing 1000th document...\n",
      "processing 2000th document...\n",
      "processing 3000th document...\n",
      "processing 4000th document...\n",
      "processing 5000th document...\n",
      "processing 6000th document...\n",
      "processing 7000th document...\n",
      "processing 8000th document...\n",
      "processing 9000th document...\n"
     ]
    }
   ],
   "source": [
    "from collections import defaultdict\n",
    "\n",
    "def to_ngrams(words, n):\n",
    "    ngrams = []\n",
    "    for idx in range(len(words) - n + 1):\n",
    "        ngrams.append(tuple(words[idx:idx+n]))\n",
    "    return ngrams\n",
    "\n",
    "def ngram_extractor(docs:list, min_count=5, n_range=(1,2)):\n",
    "    \n",
    "    '''\n",
    "        input\n",
    "        docs -> list whose elements are strings\n",
    "        min_count -> minimum threshold for dictionary, default 5.\n",
    "        n_range -> range of n-gram, default is for unigram and bigram.\n",
    "        \n",
    "        output\n",
    "        ngram_counter -> counting dictionary for n-gram\n",
    "    '''\n",
    "\n",
    "    ngram_counter = defaultdict(int) # count를 위한 dictionary를 만들기 위해 defaultdict 사용\n",
    "    begin, end = n_range\n",
    "    \n",
    "    for idx in range(len(docs)):\n",
    "        \n",
    "        if idx % 1000 == 0:\n",
    "            print(f'processing {idx}th document...')\n",
    "        \n",
    "        unigrams = mecab.pos(docs[idx], join=True)\n",
    "        for n in range(begin, end + 1):\n",
    "            for ngram in to_ngrams(unigrams, n):\n",
    "                ngram_counter[ngram] += 1\n",
    "\n",
    "    # set min_count for the size of dict\n",
    "    ngram_counter = {\n",
    "        ngram:count for ngram, count in ngram_counter.items()\n",
    "        if count >= min_count\n",
    "    }\n",
    "    \n",
    "    return ngram_counter\n",
    "\n",
    "ngram_dic = ngram_extractor(train['contents'])"
   ]
  },
  {
   "cell_type": "code",
   "execution_count": null,
   "metadata": {},
   "outputs": [],
   "source": [
    "# check built vocabs\n",
    "ngram_dic"
   ]
  },
  {
   "cell_type": "markdown",
   "metadata": {},
   "source": [
    "## 2. Use N-gram tokenizer\n",
    "<br> tokenize documents using pre-trained Ngram tokenizer"
   ]
  },
  {
   "cell_type": "code",
   "execution_count": 107,
   "metadata": {},
   "outputs": [],
   "source": [
    "from collections import defaultdict\n",
    "\n",
    "class Ngram_tokenizer_MeCab():\n",
    "    '''\n",
    "        input\n",
    "        vocab_dic -> pretrained n-gram vocab dictionary\n",
    "        n_range -> range for n in n-gram\n",
    "    '''\n",
    "    def __init__(self, vocab_dic, n_range=(1,2)):\n",
    "        self.vocab_dic = vocab_dic\n",
    "        self.begin, self.end = n_range\n",
    "        \n",
    "    def __call__(self, sent):\n",
    "        return self.tokenize(sent)\n",
    "\n",
    "    def tokenize(self, sent):\n",
    "        '''\n",
    "            input\n",
    "            sent -> a string or document, which is to be tokenized\n",
    "            \n",
    "            output\n",
    "            ngrams -> tokenized result for given string or document\n",
    "        '''\n",
    "        if not sent:\n",
    "            return []\n",
    "        \n",
    "        unigrams = mecab.pos(sent, join=True)\n",
    "        \n",
    "        ngrams = []\n",
    "        for n in range(self.begin, self.end + 1):\n",
    "            for ngram in self._to_ngrams(unigrams, n):\n",
    "                ngrams.append('-'.join(ngram)) # to make it clear\n",
    "        return ngrams\n",
    "\n",
    "    def _to_ngrams(self, tokens, n): # returns n-gram for given window size n\n",
    "        ngrams = []\n",
    "        for idx in range(len(tokens) - n + 1):\n",
    "            ngram = tuple(tokens[idx:idx+n])\n",
    "            if ngram in self.vocab_dic:\n",
    "                ngrams.append(ngram)\n",
    "        return ngrams"
   ]
  },
  {
   "cell_type": "code",
   "execution_count": 108,
   "metadata": {},
   "outputs": [],
   "source": [
    "tokenizer = Ngram_tokenizer_MeCab(vocab_dic = ngram_dic)"
   ]
  },
  {
   "cell_type": "code",
   "execution_count": 151,
   "metadata": {
    "scrolled": false
   },
   "outputs": [
    {
     "data": {
      "text/plain": [
       "['학교/NNG',\n",
       " '에서/JKB',\n",
       " '수업/NNG',\n",
       " '을/JKO',\n",
       " '받/VV',\n",
       " '는다/EF',\n",
       " './SF',\n",
       " '학교/NNG-에서/JKB',\n",
       " '수업/NNG-을/JKO',\n",
       " '을/JKO-받/VV',\n",
       " '받/VV-는다/EF',\n",
       " '는다/EF-./SF']"
      ]
     },
     "execution_count": 151,
     "metadata": {},
     "output_type": "execute_result"
    }
   ],
   "source": [
    "# test case for unigram and bigram\n",
    "tokenizer.tokenize('학교에서 수업을 받는다.')"
   ]
  },
  {
   "cell_type": "markdown",
   "metadata": {},
   "source": [
    "### add new column for title tokenizing"
   ]
  },
  {
   "cell_type": "code",
   "execution_count": 110,
   "metadata": {},
   "outputs": [
    {
     "data": {
      "text/html": [
       "<div>\n",
       "<style scoped>\n",
       "    .dataframe tbody tr th:only-of-type {\n",
       "        vertical-align: middle;\n",
       "    }\n",
       "\n",
       "    .dataframe tbody tr th {\n",
       "        vertical-align: top;\n",
       "    }\n",
       "\n",
       "    .dataframe thead th {\n",
       "        text-align: right;\n",
       "    }\n",
       "</style>\n",
       "<table border=\"1\" class=\"dataframe\">\n",
       "  <thead>\n",
       "    <tr style=\"text-align: right;\">\n",
       "      <th></th>\n",
       "      <th>index</th>\n",
       "      <th>date</th>\n",
       "      <th>category</th>\n",
       "      <th>media</th>\n",
       "      <th>title</th>\n",
       "      <th>contents</th>\n",
       "      <th>link</th>\n",
       "      <th>title_token</th>\n",
       "    </tr>\n",
       "  </thead>\n",
       "  <tbody>\n",
       "    <tr>\n",
       "      <th>0</th>\n",
       "      <td>0</td>\n",
       "      <td>20170108</td>\n",
       "      <td>IT_science</td>\n",
       "      <td>데일리안</td>\n",
       "      <td>‘효자폰’ 갤럭시S7 ‘불효폰’ G5…분위기 극과극</td>\n",
       "      <td>삼성전자 ‘갤럭시S7’ 왼쪽 LG전자 ‘G5’ 오른쪽 모델 이미지 ⓒ각 사 삼성전자...</td>\n",
       "      <td>https://news.naver.com/main/read.nhn?mode=LSD&amp;...</td>\n",
       "      <td>[‘, 효자, 폰, ’, 갤럭시, S, 7, ‘, 폰, ’, G, 5, …, 분위기...</td>\n",
       "    </tr>\n",
       "    <tr>\n",
       "      <th>1</th>\n",
       "      <td>1</td>\n",
       "      <td>20170111</td>\n",
       "      <td>IT_science</td>\n",
       "      <td>디지털타임스</td>\n",
       "      <td>카카오 O2O 플랫폼 사업 윤곽도 못잡아</td>\n",
       "      <td>11월초 공개 O2O 위드 카카오 두달 넘게 모습 드러내지 않아 후발주자로 출시까지...</td>\n",
       "      <td>https://news.naver.com/main/read.nhn?mode=LSD&amp;...</td>\n",
       "      <td>[카카오, O, 2, O, 플랫, 폼, 사업, 윤곽, 도, 못, 잡, 아, O-2,...</td>\n",
       "    </tr>\n",
       "    <tr>\n",
       "      <th>2</th>\n",
       "      <td>2</td>\n",
       "      <td>20170103</td>\n",
       "      <td>economy</td>\n",
       "      <td>조세일보</td>\n",
       "      <td>동원 고위도高緯度 북대서양 참다랑어 어획 성공</td>\n",
       "      <td>동원산업 대표이사 이명우 은 고위도 高緯度 북대서양 참다랑어를 어획하는데 성공했다고...</td>\n",
       "      <td>https://news.naver.com/main/read.nhn?mode=LSD&amp;...</td>\n",
       "      <td>[동원, 고위, 도, 高, 북대서양, 참다랑어, 어획, 성공, 고위-도, 북대서양-...</td>\n",
       "    </tr>\n",
       "  </tbody>\n",
       "</table>\n",
       "</div>"
      ],
      "text/plain": [
       "   index      date    category   media                         title  \\\n",
       "0      0  20170108  IT_science    데일리안  ‘효자폰’ 갤럭시S7 ‘불효폰’ G5…분위기 극과극   \n",
       "1      1  20170111  IT_science  디지털타임스        카카오 O2O 플랫폼 사업 윤곽도 못잡아   \n",
       "2      2  20170103     economy    조세일보     동원 고위도高緯度 북대서양 참다랑어 어획 성공   \n",
       "\n",
       "                                            contents  \\\n",
       "0  삼성전자 ‘갤럭시S7’ 왼쪽 LG전자 ‘G5’ 오른쪽 모델 이미지 ⓒ각 사 삼성전자...   \n",
       "1  11월초 공개 O2O 위드 카카오 두달 넘게 모습 드러내지 않아 후발주자로 출시까지...   \n",
       "2  동원산업 대표이사 이명우 은 고위도 高緯度 북대서양 참다랑어를 어획하는데 성공했다고...   \n",
       "\n",
       "                                                link  \\\n",
       "0  https://news.naver.com/main/read.nhn?mode=LSD&...   \n",
       "1  https://news.naver.com/main/read.nhn?mode=LSD&...   \n",
       "2  https://news.naver.com/main/read.nhn?mode=LSD&...   \n",
       "\n",
       "                                         title_token  \n",
       "0  [‘, 효자, 폰, ’, 갤럭시, S, 7, ‘, 폰, ’, G, 5, …, 분위기...  \n",
       "1  [카카오, O, 2, O, 플랫, 폼, 사업, 윤곽, 도, 못, 잡, 아, O-2,...  \n",
       "2  [동원, 고위, 도, 高, 북대서양, 참다랑어, 어획, 성공, 고위-도, 북대서양-...  "
      ]
     },
     "execution_count": 110,
     "metadata": {},
     "output_type": "execute_result"
    }
   ],
   "source": [
    "train.head(3)"
   ]
  },
  {
   "cell_type": "code",
   "execution_count": 111,
   "metadata": {},
   "outputs": [
    {
     "data": {
      "text/html": [
       "<div>\n",
       "<style scoped>\n",
       "    .dataframe tbody tr th:only-of-type {\n",
       "        vertical-align: middle;\n",
       "    }\n",
       "\n",
       "    .dataframe tbody tr th {\n",
       "        vertical-align: top;\n",
       "    }\n",
       "\n",
       "    .dataframe thead th {\n",
       "        text-align: right;\n",
       "    }\n",
       "</style>\n",
       "<table border=\"1\" class=\"dataframe\">\n",
       "  <thead>\n",
       "    <tr style=\"text-align: right;\">\n",
       "      <th></th>\n",
       "      <th>index</th>\n",
       "      <th>date</th>\n",
       "      <th>category</th>\n",
       "      <th>media</th>\n",
       "      <th>title</th>\n",
       "      <th>contents</th>\n",
       "      <th>link</th>\n",
       "      <th>title_token</th>\n",
       "    </tr>\n",
       "  </thead>\n",
       "  <tbody>\n",
       "    <tr>\n",
       "      <th>0</th>\n",
       "      <td>0</td>\n",
       "      <td>20170108</td>\n",
       "      <td>IT_science</td>\n",
       "      <td>데일리안</td>\n",
       "      <td>‘효자폰’ 갤럭시S7 ‘불효폰’ G5…분위기 극과극</td>\n",
       "      <td>삼성전자 ‘갤럭시S7’ 왼쪽 LG전자 ‘G5’ 오른쪽 모델 이미지 ⓒ각 사 삼성전자...</td>\n",
       "      <td>https://news.naver.com/main/read.nhn?mode=LSD&amp;...</td>\n",
       "      <td>[‘/SY, 효자/NNG, 폰/NNG, ’/SY, 갤럭시/NNP, S/SL, 7/S...</td>\n",
       "    </tr>\n",
       "    <tr>\n",
       "      <th>1</th>\n",
       "      <td>1</td>\n",
       "      <td>20170111</td>\n",
       "      <td>IT_science</td>\n",
       "      <td>디지털타임스</td>\n",
       "      <td>카카오 O2O 플랫폼 사업 윤곽도 못잡아</td>\n",
       "      <td>11월초 공개 O2O 위드 카카오 두달 넘게 모습 드러내지 않아 후발주자로 출시까지...</td>\n",
       "      <td>https://news.naver.com/main/read.nhn?mode=LSD&amp;...</td>\n",
       "      <td>[카카오/NNP, O/SL, 2/SN, O/SL, 플랫/NNG, 폼/NNG, 사업/...</td>\n",
       "    </tr>\n",
       "    <tr>\n",
       "      <th>2</th>\n",
       "      <td>2</td>\n",
       "      <td>20170103</td>\n",
       "      <td>economy</td>\n",
       "      <td>조세일보</td>\n",
       "      <td>동원 고위도高緯度 북대서양 참다랑어 어획 성공</td>\n",
       "      <td>동원산업 대표이사 이명우 은 고위도 高緯度 북대서양 참다랑어를 어획하는데 성공했다고...</td>\n",
       "      <td>https://news.naver.com/main/read.nhn?mode=LSD&amp;...</td>\n",
       "      <td>[동원/NNG, 고위/NNG, 도/JX, 高/XPN, 북대서양/NNG, 참다랑어/N...</td>\n",
       "    </tr>\n",
       "  </tbody>\n",
       "</table>\n",
       "</div>"
      ],
      "text/plain": [
       "   index      date    category   media                         title  \\\n",
       "0      0  20170108  IT_science    데일리안  ‘효자폰’ 갤럭시S7 ‘불효폰’ G5…분위기 극과극   \n",
       "1      1  20170111  IT_science  디지털타임스        카카오 O2O 플랫폼 사업 윤곽도 못잡아   \n",
       "2      2  20170103     economy    조세일보     동원 고위도高緯度 북대서양 참다랑어 어획 성공   \n",
       "\n",
       "                                            contents  \\\n",
       "0  삼성전자 ‘갤럭시S7’ 왼쪽 LG전자 ‘G5’ 오른쪽 모델 이미지 ⓒ각 사 삼성전자...   \n",
       "1  11월초 공개 O2O 위드 카카오 두달 넘게 모습 드러내지 않아 후발주자로 출시까지...   \n",
       "2  동원산업 대표이사 이명우 은 고위도 高緯度 북대서양 참다랑어를 어획하는데 성공했다고...   \n",
       "\n",
       "                                                link  \\\n",
       "0  https://news.naver.com/main/read.nhn?mode=LSD&...   \n",
       "1  https://news.naver.com/main/read.nhn?mode=LSD&...   \n",
       "2  https://news.naver.com/main/read.nhn?mode=LSD&...   \n",
       "\n",
       "                                         title_token  \n",
       "0  [‘/SY, 효자/NNG, 폰/NNG, ’/SY, 갤럭시/NNP, S/SL, 7/S...  \n",
       "1  [카카오/NNP, O/SL, 2/SN, O/SL, 플랫/NNG, 폼/NNG, 사업/...  \n",
       "2  [동원/NNG, 고위/NNG, 도/JX, 高/XPN, 북대서양/NNG, 참다랑어/N...  "
      ]
     },
     "execution_count": 111,
     "metadata": {},
     "output_type": "execute_result"
    }
   ],
   "source": [
    "train['title_token'] = train['title'].apply(lambda sent: tokenizer.tokenize(sent))\n",
    "train.head(3)"
   ]
  },
  {
   "cell_type": "code",
   "execution_count": 112,
   "metadata": {
    "scrolled": true
   },
   "outputs": [
    {
     "name": "stdout",
     "output_type": "stream",
     "text": [
      "['‘/SY', '효자/NNG', '폰/NNG', '’/SY', '갤럭시/NNP', 'S/SL', '7/SN', '‘/SY', '폰/NNG', '’/SY', 'G/SL', '5/SN', '…/SE', '분위기/NNG', '극/NNG', '과/JC', '극/NNG', '폰/NNG-’/SY', '갤럭시/NNP-S/SL', 'S/SL-7/SN', '폰/NNG-’/SY', 'G/SL-5/SN']\n"
     ]
    }
   ],
   "source": [
    "print(train['title_token'][0])"
   ]
  },
  {
   "cell_type": "markdown",
   "metadata": {},
   "source": [
    "### form DTM using scikit-learn"
   ]
  },
  {
   "cell_type": "code",
   "execution_count": 122,
   "metadata": {},
   "outputs": [
    {
     "data": {
      "text/plain": [
       "(10000, 28962)"
      ]
     },
     "execution_count": 122,
     "metadata": {},
     "output_type": "execute_result"
    }
   ],
   "source": [
    "from sklearn.feature_extraction.text import CountVectorizer\n",
    "\n",
    "vectorizer = CountVectorizer(\n",
    "    tokenizer = tokenizer,\n",
    "    lowercase = False,\n",
    ")\n",
    "X_train = vectorizer.fit_transform(train['title'])\n",
    "X_train.shape # (10000, 28962)"
   ]
  },
  {
   "cell_type": "markdown",
   "metadata": {},
   "source": [
    "### Logistic Regression and its coefficient"
   ]
  },
  {
   "cell_type": "code",
   "execution_count": 128,
   "metadata": {},
   "outputs": [
    {
     "name": "stderr",
     "output_type": "stream",
     "text": [
      "/Users/gibonghong/anaconda3/lib/python3.6/site-packages/sklearn/linear_model/_logistic.py:764: ConvergenceWarning: lbfgs failed to converge (status=1):\n",
      "STOP: TOTAL NO. of ITERATIONS REACHED LIMIT.\n",
      "\n",
      "Increase the number of iterations (max_iter) or scale the data as shown in:\n",
      "    https://scikit-learn.org/stable/modules/preprocessing.html\n",
      "Please also refer to the documentation for alternative solver options:\n",
      "    https://scikit-learn.org/stable/modules/linear_model.html#logistic-regression\n",
      "  extra_warning_msg=_LOGISTIC_SOLVER_CONVERGENCE_MSG)\n"
     ]
    },
    {
     "data": {
      "text/plain": [
       "LogisticRegression()"
      ]
     },
     "execution_count": 128,
     "metadata": {},
     "output_type": "execute_result"
    }
   ],
   "source": [
    "from sklearn.linear_model import LogisticRegression\n",
    "\n",
    "classifier = LogisticRegression()\n",
    "classifier.fit(X_train, y_train)"
   ]
  },
  {
   "cell_type": "code",
   "execution_count": 142,
   "metadata": {},
   "outputs": [],
   "source": [
    "IT_idxs_coef = list(enumerate(classifier.coef_[0]))\n",
    "IT_idxs = sorted(IT_idxs_coef, key=lambda x:-x[1])[:50]\n",
    "\n",
    "eco_idxs_coef = list(enumerate(classifier.coef_[1]))\n",
    "eco_idxs = sorted(eco_idxs_coef, key=lambda x:-x[1])[:50]\n",
    "\n",
    "poli_idxs_coef = list(enumerate(classifier.coef_[2]))\n",
    "poli_idxs = sorted(poli_idxs_coef, key=lambda x:-x[1])[:50]\n",
    "\n",
    "vocab2idx = vectorizer.vocabulary_\n",
    "idx2vocab = list(sorted(vocab2idx, key=lambda x:vocab2idx[x]))"
   ]
  },
  {
   "cell_type": "code",
   "execution_count": 143,
   "metadata": {
    "scrolled": true
   },
   "outputs": [
    {
     "data": {
      "text/plain": [
       "[('KT/SL', 1.5979724197041187),\n",
       " ('SW/SL', 1.450867036606296),\n",
       " ('데이터/NNG', 1.4330650600668249),\n",
       " ('네이버/NNP', 1.4241360798791471),\n",
       " ('애플/NNP', 1.380759796232405),\n",
       " ('통신/NNG', 1.2919508474257113),\n",
       " ('게임/NNG', 1.2888698870621846),\n",
       " ('IT/SL', 1.2224886996069422),\n",
       " ('안랩/NNP', 1.2092125903753634),\n",
       " ('앱/NNG', 1.2032265095844688),\n",
       " ('드론/NNP', 1.1874971262869634),\n",
       " ('구글/NNG', 1.1597853252911219),\n",
       " ('우주/NNG', 1.1101076949468858),\n",
       " ('페이스북/NNP', 1.0750114858705384),\n",
       " ('포켓몬/NNP', 1.0738674773986174),\n",
       " ('ICT/SL', 1.0567906154586622),\n",
       " ('CES/SL', 1.0281080310898072),\n",
       " ('인공지능/NNP', 1.018734340161225),\n",
       " ('갤럭시/NNP', 1.0183396858541898),\n",
       " ('스마트폰/NNP', 1.0155395712234492),\n",
       " ('정보/NNG', 1.0135350921868391),\n",
       " ('클라우드/NNP', 1.0134222728522422),\n",
       " ('VR/SL', 1.0045475364324832),\n",
       " ('방통/NNG', 0.9978756975443422),\n",
       " ('미래/NNG', 0.9961895779130883),\n",
       " ('미래/NNG-부/NNG', 0.9898880607168079),\n",
       " ('LGU/SL', 0.9726892864960273),\n",
       " ('삼성전자/NNP', 0.9693233786820062),\n",
       " ('아이폰/NNP', 0.9690464837257594),\n",
       " ('시스템/NNG', 0.9685721175661867),\n",
       " ('방송/NNG', 0.9672724086126822),\n",
       " ('카카오/NNP', 0.954634992361713),\n",
       " ('폰/NNG', 0.9506908323985579),\n",
       " ('보안/NNG', 0.9497721666623241),\n",
       " ('중소기업/NNG', 0.9356826763748378),\n",
       " ('업데이트/NNG', 0.9354703168638204),\n",
       " ('인수/NNG', 0.9162336364890165),\n",
       " ('신한/NNP-금융/NNG', 0.9153171192451094),\n",
       " ('넷마블/NNP', 0.9093948208321782),\n",
       " ('연구/NNG', 0.8963494400246397),\n",
       " ('PC/SL', 0.868192399732486),\n",
       " ('IoT/SL', 0.8662799190883921),\n",
       " ('교수/NNG', 0.8638637443012985),\n",
       " ('스타트업/NNG', 0.8635323704022709),\n",
       " ('만/NR-명/NNBC', 0.8596024177485844),\n",
       " ('LG/SL', 0.8524879778588748),\n",
       " ('SKT/SL', 0.8478945302984312),\n",
       " ('아마존/NNP', 0.8373384634392176),\n",
       " ('신년/NNG-기획/NNG', 0.8364516915086905),\n",
       " ('솔루션/NNP', 0.8296025460938654)]"
      ]
     },
     "execution_count": 143,
     "metadata": {},
     "output_type": "execute_result"
    }
   ],
   "source": [
    "IT_idxs = [(idx2vocab[idx], coef) for (idx, coef) in IT_idxs]\n",
    "IT_idxs"
   ]
  },
  {
   "cell_type": "code",
   "execution_count": 141,
   "metadata": {
    "scrolled": true
   },
   "outputs": [
    {
     "data": {
      "text/plain": [
       "[('사진/NNG', 1.6198393499161001),\n",
       " ('회장/NNG', 1.6178383648536612),\n",
       " ('아파트/NNG', 1.2376654858177827),\n",
       " ('보험/NNG', 1.2148156307025737),\n",
       " ('공시/NNG', 1.2125207482560671),\n",
       " ('fnRASSI/SL', 1.2040752748953176),\n",
       " ('특징/NNG', 1.2026348511675784),\n",
       " ('계란/NNG', 1.2025839755846757),\n",
       " ('임종룡/NNP', 1.1956974560825069),\n",
       " ('달걀/NNG', 1.161189849554328),\n",
       " ('코스피/NNP', 1.1539288259077243),\n",
       " ('인천/NNP', 1.1319864149934808),\n",
       " ('세트/NNG', 1.1233155323037682),\n",
       " ('분양/NNG', 1.0715134218130788),\n",
       " ('총재/NNG', 1.0335128579058572),\n",
       " ('금융/NNG', 0.9829621649844269),\n",
       " ('증시/NNG', 0.9762260238314097),\n",
       " ('부동산/NNG', 0.9600361984769104),\n",
       " ('사진/NNG-특검/NNG', 0.9514288734321491),\n",
       " ('닭/NNG', 0.9423427449140709),\n",
       " ('현대/NNP', 0.9341769679655005),\n",
       " ('제주항공/NNP', 0.8941722262070202),\n",
       " ('전용/NNP', 0.88441112537203),\n",
       " ('증권/NNG', 0.8754701358560648),\n",
       " ('롯데/NNP', 0.8415558076738103),\n",
       " ('코엑스/NNP', 0.8391749621410178),\n",
       " ('선물/NNG', 0.8314057760670115),\n",
       " ('출시/NNG', 0.8109240249934849),\n",
       " ('세일/NNG', 0.8012469885609272),\n",
       " ('수확/NNG', 0.7951569293114892),\n",
       " ('한전/NNP', 0.7891491974346779),\n",
       " ('유통/NNG', 0.7877289453936546),\n",
       " ('외국인/NNG', 0.7853526220130479),\n",
       " ('현재/NNG', 0.7645662420337579),\n",
       " ('공단/NNG', 0.7587961824638034),\n",
       " ('현대/NNG', 0.7560548655834766),\n",
       " ('생명/NNG', 0.7454715087107315),\n",
       " ('비상/NNG', 0.744566799503411),\n",
       " ('오픈/NNG', 0.7441852616679557),\n",
       " ('매수/NNG', 0.7429668438105522),\n",
       " ('마감/NNG', 0.7425937746024691),\n",
       " ('계약/NNG', 0.7422863800104977),\n",
       " ('조선/NNP', 0.7421656872422709),\n",
       " ('사장/NNG', 0.7405614853330413),\n",
       " ('기업/NNG', 0.738146524602698),\n",
       " ('물가/NNG', 0.7365429865783459),\n",
       " ('은행장/NNG', 0.7358475704945855),\n",
       " ('대출/NNG', 0.732828277827828),\n",
       " ('상승세/NNG', 0.7289392446808438),\n",
       " ('공사/NNG', 0.7262543993445306)]"
      ]
     },
     "execution_count": 141,
     "metadata": {},
     "output_type": "execute_result"
    }
   ],
   "source": [
    "eco_idxs = [(idx2vocab[idx], coef) for (idx, coef) in eco_idxs]\n",
    "eco_idxs"
   ]
  },
  {
   "cell_type": "code",
   "execution_count": 144,
   "metadata": {
    "scrolled": true
   },
   "outputs": [
    {
     "data": {
      "text/plain": [
       "[('문재인/NNP', 2.0983167282649786),\n",
       " ('北/NNG', 1.7552245666788167),\n",
       " ('정유라/NNP', 1.7028640109550852),\n",
       " ('김정은/NNP', 1.6008885508377082),\n",
       " ('추미애/NNP', 1.5832161406170369),\n",
       " ('북한/NNP', 1.5378822567953647),\n",
       " ('이재명/NNP', 1.4494558931175145),\n",
       " ('국회/NNG', 1.4352196290866066),\n",
       " ('대통령/NNG', 1.4329484455841466),\n",
       " ('촛불/NNG', 1.416429495007603),\n",
       " ('의원/NNG', 1.4124680927001934),\n",
       " ('반기문/NNP', 1.3621073057334703),\n",
       " ('청와대/NNP', 1.359797019944226),\n",
       " ('민주당/NNP', 1.3050405459881287),\n",
       " ('박지원/NNP', 1.2808542501697382),\n",
       " ('특검/NNG', 1.2664327402389928),\n",
       " ('대선/NNG', 1.2404242488997166),\n",
       " ('박원순/NNP', 1.1196879908971318),\n",
       " ('文/NNG', 1.1129003180295758),\n",
       " ('단독/NNG', 1.1070811082874243),\n",
       " ('개헌/NNG', 1.1052421237438566),\n",
       " ('김무성/NNP', 1.0586769556208582),\n",
       " ('원내대표/NNP', 1.0578238685674874),\n",
       " ('인명진/NNP', 1.0156979299591524),\n",
       " ('인사/NNG-하/XSV', 1.0059147680516107),\n",
       " ('서청원/NNP', 0.9810066662091056),\n",
       " ('유승민/NNP', 0.9803239588631933),\n",
       " ('보수/NNG', 0.9724985244033625),\n",
       " ('軍/NNG', 0.9674655454801091),\n",
       " ('탈당/NNG', 0.9614998296245839),\n",
       " ('정의당/NNG', 0.9585666716943186),\n",
       " ('최순/NNP', 0.9548774389096201),\n",
       " ('박근혜/NNP', 0.9488341717283825),\n",
       " ('헌재/NNP', 0.9441275515889129),\n",
       " ('정부/NNG-시무식/NNG', 0.9337755551082048),\n",
       " ('안철수/NNP', 0.925072637210975),\n",
       " ('당/XSN', 0.9210513113607027),\n",
       " ('해군/NNG', 0.9188362746347067),\n",
       " ('주승용/NNP', 0.915863650840891),\n",
       " ('탄핵/NNG', 0.9147667254863747),\n",
       " ('블랙리스트/NNG', 0.9062233643568118),\n",
       " ('사격/NNG', 0.895374971314851),\n",
       " ('정우택/NNP', 0.8936915453350323),\n",
       " ('실전/NNG', 0.8809715704901695),\n",
       " ('여론/NNG', 0.8786198277665229),\n",
       " ('대행/NNG', 0.8584443223669354),\n",
       " ('潘/NNG', 0.8418046772977034),\n",
       " ('찬성/NNG', 0.8344753484418441),\n",
       " ('선거/NNG', 0.8282020161801344),\n",
       " ('개혁/NNG', 0.8262154446684999)]"
      ]
     },
     "execution_count": 144,
     "metadata": {},
     "output_type": "execute_result"
    }
   ],
   "source": [
    "poli_idxs = [(idx2vocab[idx], coef) for (idx, coef) in poli_idxs]\n",
    "poli_idxs"
   ]
  },
  {
   "cell_type": "markdown",
   "metadata": {},
   "source": [
    "### test"
   ]
  },
  {
   "cell_type": "code",
   "execution_count": 145,
   "metadata": {},
   "outputs": [],
   "source": [
    "X_test = vectorizer.transform(test['title'])\n",
    "y_pred = classifier.predict(X_test)"
   ]
  },
  {
   "cell_type": "code",
   "execution_count": 149,
   "metadata": {},
   "outputs": [
    {
     "data": {
      "text/plain": [
       "0.8578050369874635"
      ]
     },
     "execution_count": 149,
     "metadata": {},
     "output_type": "execute_result"
    }
   ],
   "source": [
    "y_true = test['category']\n",
    "from sklearn.metrics import f1_score\n",
    "f1_score(y_true, y_pred, average = 'weighted')"
   ]
  },
  {
   "cell_type": "code",
   "execution_count": null,
   "metadata": {},
   "outputs": [],
   "source": [
    "# plot confusion matrix and see which category is well-classified\n",
    "# what do we need to do more to enhance its performance?"
   ]
  }
 ],
 "metadata": {
  "kernelspec": {
   "display_name": "Python 3",
   "language": "python",
   "name": "python3"
  },
  "language_info": {
   "codemirror_mode": {
    "name": "ipython",
    "version": 3
   },
   "file_extension": ".py",
   "mimetype": "text/x-python",
   "name": "python",
   "nbconvert_exporter": "python",
   "pygments_lexer": "ipython3",
   "version": "3.6.10"
  }
 },
 "nbformat": 4,
 "nbformat_minor": 4
}
