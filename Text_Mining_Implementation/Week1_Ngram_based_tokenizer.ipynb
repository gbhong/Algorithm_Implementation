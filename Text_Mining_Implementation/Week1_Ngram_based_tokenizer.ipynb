{
 "cells": [
  {
   "cell_type": "markdown",
   "metadata": {},
   "source": [
    "# N-gram and Vectorization\n",
    "* part 1. Build N-gram based Tokenizer\n",
    "<br> - unigram and bigram\n",
    "<br> - N-gram and Tokenization\n",
    "\n",
    "\n",
    "* part 2. DTM and Vectorization\n",
    "<br> - term frequency matrix\n",
    "<br> - text classification with Logistic Regression\n",
    "\n",
    "<br> <참고> \n",
    "<br> https://lovit.github.io/nlp/2018/10/23/ngram/\n",
    "<br> https://soohee410.github.io/compare_tagger\n",
    "<br> https://lovit.github.io/nlp/2018/03/26/from_text_to_matrix/"
   ]
  },
  {
   "cell_type": "code",
   "execution_count": 2,
   "metadata": {},
   "outputs": [],
   "source": [
    "import pandas as pd\n",
    "import numpy as np\n",
    "\n",
    "import os\n",
    "\n",
    "from sklearn.feature_extraction.text import CountVectorizer, TfidfVectorizer\n",
    "from sklearn.linear_model import LogisticRegression\n",
    "from sklearn.model_selection import train_test_split"
   ]
  },
  {
   "cell_type": "code",
   "execution_count": 9,
   "metadata": {},
   "outputs": [
    {
     "data": {
      "text/plain": [
       "['3_class_naver_news_200819_test.csv',\n",
       " '3_class_naver_news_200819_train.csv',\n",
       " '2016_filtered_review.txt']"
      ]
     },
     "execution_count": 9,
     "metadata": {},
     "output_type": "execute_result"
    }
   ],
   "source": [
    "# check directory\n",
    "os.listdir('./data/')"
   ]
  },
  {
   "cell_type": "code",
   "execution_count": 96,
   "metadata": {},
   "outputs": [
    {
     "data": {
      "text/html": [
       "<div>\n",
       "<style scoped>\n",
       "    .dataframe tbody tr th:only-of-type {\n",
       "        vertical-align: middle;\n",
       "    }\n",
       "\n",
       "    .dataframe tbody tr th {\n",
       "        vertical-align: top;\n",
       "    }\n",
       "\n",
       "    .dataframe thead th {\n",
       "        text-align: right;\n",
       "    }\n",
       "</style>\n",
       "<table border=\"1\" class=\"dataframe\">\n",
       "  <thead>\n",
       "    <tr style=\"text-align: right;\">\n",
       "      <th></th>\n",
       "      <th>0</th>\n",
       "      <th>1</th>\n",
       "      <th>2</th>\n",
       "      <th>3</th>\n",
       "      <th>4</th>\n",
       "      <th>5</th>\n",
       "      <th>6</th>\n",
       "    </tr>\n",
       "  </thead>\n",
       "  <tbody>\n",
       "    <tr>\n",
       "      <th>0</th>\n",
       "      <td>0</td>\n",
       "      <td>20170108</td>\n",
       "      <td>IT_science</td>\n",
       "      <td>데일리안</td>\n",
       "      <td>‘효자폰’ 갤럭시S7 ‘불효폰’ G5…분위기 극과극</td>\n",
       "      <td>삼성전자 ‘갤럭시S7’ 왼쪽 LG전자 ‘G5’ 오른쪽 모델 이미지 ⓒ각 사 삼성전자...</td>\n",
       "      <td>https://news.naver.com/main/read.nhn?mode=LSD&amp;...</td>\n",
       "    </tr>\n",
       "    <tr>\n",
       "      <th>1</th>\n",
       "      <td>1</td>\n",
       "      <td>20170111</td>\n",
       "      <td>IT_science</td>\n",
       "      <td>디지털타임스</td>\n",
       "      <td>카카오 O2O 플랫폼 사업 윤곽도 못잡아</td>\n",
       "      <td>11월초 공개 O2O 위드 카카오 두달 넘게 모습 드러내지 않아 후발주자로 출시까지...</td>\n",
       "      <td>https://news.naver.com/main/read.nhn?mode=LSD&amp;...</td>\n",
       "    </tr>\n",
       "    <tr>\n",
       "      <th>2</th>\n",
       "      <td>2</td>\n",
       "      <td>20170103</td>\n",
       "      <td>economy</td>\n",
       "      <td>조세일보</td>\n",
       "      <td>동원 고위도高緯度 북대서양 참다랑어 어획 성공</td>\n",
       "      <td>동원산업 대표이사 이명우 은 고위도 高緯度 북대서양 참다랑어를 어획하는데 성공했다고...</td>\n",
       "      <td>https://news.naver.com/main/read.nhn?mode=LSD&amp;...</td>\n",
       "    </tr>\n",
       "  </tbody>\n",
       "</table>\n",
       "</div>"
      ],
      "text/plain": [
       "   0         1           2       3                             4  \\\n",
       "0  0  20170108  IT_science    데일리안  ‘효자폰’ 갤럭시S7 ‘불효폰’ G5…분위기 극과극   \n",
       "1  1  20170111  IT_science  디지털타임스        카카오 O2O 플랫폼 사업 윤곽도 못잡아   \n",
       "2  2  20170103     economy    조세일보     동원 고위도高緯度 북대서양 참다랑어 어획 성공   \n",
       "\n",
       "                                                   5  \\\n",
       "0  삼성전자 ‘갤럭시S7’ 왼쪽 LG전자 ‘G5’ 오른쪽 모델 이미지 ⓒ각 사 삼성전자...   \n",
       "1  11월초 공개 O2O 위드 카카오 두달 넘게 모습 드러내지 않아 후발주자로 출시까지...   \n",
       "2  동원산업 대표이사 이명우 은 고위도 高緯度 북대서양 참다랑어를 어획하는데 성공했다고...   \n",
       "\n",
       "                                                   6  \n",
       "0  https://news.naver.com/main/read.nhn?mode=LSD&...  \n",
       "1  https://news.naver.com/main/read.nhn?mode=LSD&...  \n",
       "2  https://news.naver.com/main/read.nhn?mode=LSD&...  "
      ]
     },
     "execution_count": 96,
     "metadata": {},
     "output_type": "execute_result"
    }
   ],
   "source": [
    "train = pd.read_csv('./data/3_class_naver_news_200819_train.csv', header=None)\n",
    "test = pd.read_csv('./data/3_class_naver_news_200819_test.csv', header=None)\n",
    "train.head(3)"
   ]
  },
  {
   "cell_type": "code",
   "execution_count": 84,
   "metadata": {},
   "outputs": [
    {
     "name": "stdout",
     "output_type": "stream",
     "text": [
      "(10000, 7)\n",
      "\n",
      "<class 'pandas.core.frame.DataFrame'>\n",
      "RangeIndex: 10000 entries, 0 to 9999\n",
      "Data columns (total 7 columns):\n",
      " #   Column  Non-Null Count  Dtype \n",
      "---  ------  --------------  ----- \n",
      " 0   0       10000 non-null  int64 \n",
      " 1   1       10000 non-null  int64 \n",
      " 2   2       10000 non-null  object\n",
      " 3   3       10000 non-null  object\n",
      " 4   4       10000 non-null  object\n",
      " 5   5       10000 non-null  object\n",
      " 6   6       10000 non-null  object\n",
      "dtypes: int64(2), object(5)\n",
      "memory usage: 547.0+ KB\n",
      "None\n"
     ]
    }
   ],
   "source": [
    "print(train.shape)\n",
    "print()\n",
    "print(train.info())"
   ]
  },
  {
   "cell_type": "code",
   "execution_count": 97,
   "metadata": {},
   "outputs": [],
   "source": [
    "colnames = ['index', 'date', 'category', 'media', 'title', 'contents', 'link']\n",
    "train.columns = colnames\n",
    "test.columns = colnames"
   ]
  },
  {
   "cell_type": "markdown",
   "metadata": {},
   "source": [
    "## MeCab-based tokenization example"
   ]
  },
  {
   "cell_type": "code",
   "execution_count": 86,
   "metadata": {},
   "outputs": [
    {
     "name": "stdout",
     "output_type": "stream",
     "text": [
      "['‘', '효자', '폰', '’', '갤럭시', 'S', '7', '‘', '불효', '폰', '’', 'G', '5', '…', '분위기', '극', '과', '극']\n"
     ]
    }
   ],
   "source": [
    "# tokenization with Mecab\n",
    "from konlpy.tag import Mecab\n",
    "mecab = Mecab()\n",
    "print(mecab.morphs(train['title'][0]))"
   ]
  },
  {
   "cell_type": "markdown",
   "metadata": {},
   "source": [
    "## 1. N-gram extraction to build pre-trained dict\n",
    "<br> 10,000개의 train data를 활용해서 n-gram dict를 만듭니다"
   ]
  },
  {
   "cell_type": "code",
   "execution_count": 106,
   "metadata": {
    "scrolled": false
   },
   "outputs": [
    {
     "name": "stdout",
     "output_type": "stream",
     "text": [
      "processing 0th document...\n",
      "processing 1000th document...\n",
      "processing 2000th document...\n",
      "processing 3000th document...\n",
      "processing 4000th document...\n",
      "processing 5000th document...\n",
      "processing 6000th document...\n",
      "processing 7000th document...\n",
      "processing 8000th document...\n",
      "processing 9000th document...\n"
     ]
    }
   ],
   "source": [
    "from collections import defaultdict\n",
    "\n",
    "def to_ngrams(words, n):\n",
    "    ngrams = []\n",
    "    for idx in range(len(words) - n + 1):\n",
    "        ngrams.append(tuple(words[idx:idx+n]))\n",
    "    return ngrams\n",
    "\n",
    "def ngram_extractor(docs:list, min_count=5, n_range=(1,2)):\n",
    "    \n",
    "    '''\n",
    "        input\n",
    "        docs -> list whose elements are strings\n",
    "        min_count -> minimum threshold for dictionary, default 5.\n",
    "        n_range -> range of n-gram, default is for unigram and bigram.\n",
    "        \n",
    "        output\n",
    "        ngram_counter -> counting dictionary for n-gram\n",
    "    '''\n",
    "    \n",
    "    ngram_counter = defaultdict(int) # count를 위한 dictionary를 만들기 위해 defaultdict 사용\n",
    "    begin, end = n_range\n",
    "    \n",
    "    for idx in range(len(docs)):\n",
    "        \n",
    "        if idx % 1000 == 0:\n",
    "            print(f'processing {idx}th document...')\n",
    "        \n",
    "        unigrams = mecab.pos(docs[idx], join=True)\n",
    "        for n in range(begin, end + 1):\n",
    "            for ngram in to_ngrams(unigrams, n):\n",
    "                ngram_counter[ngram] += 1\n",
    "\n",
    "    # set min_count for the size of dict\n",
    "    ngram_counter = {\n",
    "        ngram:count for ngram, count in ngram_counter.items()\n",
    "        if count >= min_count\n",
    "    }\n",
    "    \n",
    "    return ngram_counter\n",
    "\n",
    "ngram_dic = ngram_extractor(train['contents'])"
   ]
  },
  {
   "cell_type": "code",
   "execution_count": null,
   "metadata": {},
   "outputs": [],
   "source": [
    "# check built vocabs\n",
    "ngram_dic"
   ]
  },
  {
   "cell_type": "markdown",
   "metadata": {},
   "source": [
    "## 2. Use N-gram tokenizer\n",
    "<br> tokenize documents using pre-trained Ngram tokenizer"
   ]
  },
  {
   "cell_type": "code",
   "execution_count": 107,
   "metadata": {},
   "outputs": [],
   "source": [
    "from collections import defaultdict\n",
    "\n",
    "class Ngram_tokenizer_MeCab():\n",
    "    '''\n",
    "        input\n",
    "        vocab_dic -> pretrained n-gram vocab dictionary\n",
    "        n_range -> range for n in n-gram\n",
    "    '''\n",
    "    def __init__(self, vocab_dic, n_range=(1,2)):\n",
    "        self.vocab_dic = vocab_dic\n",
    "        self.begin, self.end = n_range\n",
    "        \n",
    "    def __call__(self, sent):\n",
    "        return self.tokenize(sent)\n",
    "\n",
    "    def tokenize(self, sent):\n",
    "        '''\n",
    "            input\n",
    "            sent -> a string or document, which is to be tokenized\n",
    "            \n",
    "            output\n",
    "            ngrams -> tokenized result for given string or document\n",
    "        '''\n",
    "        if not sent:\n",
    "            return []\n",
    "        \n",
    "        unigrams = mecab.pos(sent, join=True)\n",
    "        \n",
    "        ngrams = []\n",
    "        for n in range(self.begin, self.end + 1):\n",
    "            for ngram in self._to_ngrams(unigrams, n):\n",
    "                ngrams.append('-'.join(ngram)) # to make it clear\n",
    "        return ngrams\n",
    "\n",
    "    def _to_ngrams(self, tokens, n): # returns n-gram for given window size n\n",
    "        ngrams = []\n",
    "        for idx in range(len(tokens) - n + 1):\n",
    "            ngram = tuple(tokens[idx:idx+n])\n",
    "            if ngram in self.vocab_dic:\n",
    "                ngrams.append(ngram)\n",
    "        return ngrams"
   ]
  },
  {
   "cell_type": "code",
   "execution_count": 108,
   "metadata": {},
   "outputs": [],
   "source": [
    "tokenizer = Ngram_tokenizer_MeCab(vocab_dic = ngram_dic)"
   ]
  },
  {
   "cell_type": "code",
   "execution_count": 109,
   "metadata": {
    "scrolled": false
   },
   "outputs": [
    {
     "data": {
      "text/plain": [
       "['나/NP',\n",
       " '는/JX',\n",
       " '학교/NNG',\n",
       " '에/JKB',\n",
       " '갔/VV+EP',\n",
       " '습니다/EF',\n",
       " './SF',\n",
       " '나/NP-는/JX',\n",
       " '는/JX-학교/NNG',\n",
       " '학교/NNG-에/JKB',\n",
       " '갔/VV+EP-습니다/EF',\n",
       " '습니다/EF-./SF']"
      ]
     },
     "execution_count": 109,
     "metadata": {},
     "output_type": "execute_result"
    }
   ],
   "source": [
    "# test case for unigram and bigram\n",
    "tokenizer.tokenize('나는 학교에 갔습니다.')"
   ]
  },
  {
   "cell_type": "markdown",
   "metadata": {},
   "source": [
    "### add new column for title tokenizing"
   ]
  },
  {
   "cell_type": "code",
   "execution_count": 110,
   "metadata": {},
   "outputs": [
    {
     "data": {
      "text/html": [
       "<div>\n",
       "<style scoped>\n",
       "    .dataframe tbody tr th:only-of-type {\n",
       "        vertical-align: middle;\n",
       "    }\n",
       "\n",
       "    .dataframe tbody tr th {\n",
       "        vertical-align: top;\n",
       "    }\n",
       "\n",
       "    .dataframe thead th {\n",
       "        text-align: right;\n",
       "    }\n",
       "</style>\n",
       "<table border=\"1\" class=\"dataframe\">\n",
       "  <thead>\n",
       "    <tr style=\"text-align: right;\">\n",
       "      <th></th>\n",
       "      <th>index</th>\n",
       "      <th>date</th>\n",
       "      <th>category</th>\n",
       "      <th>media</th>\n",
       "      <th>title</th>\n",
       "      <th>contents</th>\n",
       "      <th>link</th>\n",
       "      <th>title_token</th>\n",
       "    </tr>\n",
       "  </thead>\n",
       "  <tbody>\n",
       "    <tr>\n",
       "      <th>0</th>\n",
       "      <td>0</td>\n",
       "      <td>20170108</td>\n",
       "      <td>IT_science</td>\n",
       "      <td>데일리안</td>\n",
       "      <td>‘효자폰’ 갤럭시S7 ‘불효폰’ G5…분위기 극과극</td>\n",
       "      <td>삼성전자 ‘갤럭시S7’ 왼쪽 LG전자 ‘G5’ 오른쪽 모델 이미지 ⓒ각 사 삼성전자...</td>\n",
       "      <td>https://news.naver.com/main/read.nhn?mode=LSD&amp;...</td>\n",
       "      <td>[‘, 효자, 폰, ’, 갤럭시, S, 7, ‘, 폰, ’, G, 5, …, 분위기...</td>\n",
       "    </tr>\n",
       "    <tr>\n",
       "      <th>1</th>\n",
       "      <td>1</td>\n",
       "      <td>20170111</td>\n",
       "      <td>IT_science</td>\n",
       "      <td>디지털타임스</td>\n",
       "      <td>카카오 O2O 플랫폼 사업 윤곽도 못잡아</td>\n",
       "      <td>11월초 공개 O2O 위드 카카오 두달 넘게 모습 드러내지 않아 후발주자로 출시까지...</td>\n",
       "      <td>https://news.naver.com/main/read.nhn?mode=LSD&amp;...</td>\n",
       "      <td>[카카오, O, 2, O, 플랫, 폼, 사업, 윤곽, 도, 못, 잡, 아, O-2,...</td>\n",
       "    </tr>\n",
       "    <tr>\n",
       "      <th>2</th>\n",
       "      <td>2</td>\n",
       "      <td>20170103</td>\n",
       "      <td>economy</td>\n",
       "      <td>조세일보</td>\n",
       "      <td>동원 고위도高緯度 북대서양 참다랑어 어획 성공</td>\n",
       "      <td>동원산업 대표이사 이명우 은 고위도 高緯度 북대서양 참다랑어를 어획하는데 성공했다고...</td>\n",
       "      <td>https://news.naver.com/main/read.nhn?mode=LSD&amp;...</td>\n",
       "      <td>[동원, 고위, 도, 高, 북대서양, 참다랑어, 어획, 성공, 고위-도, 북대서양-...</td>\n",
       "    </tr>\n",
       "  </tbody>\n",
       "</table>\n",
       "</div>"
      ],
      "text/plain": [
       "   index      date    category   media                         title  \\\n",
       "0      0  20170108  IT_science    데일리안  ‘효자폰’ 갤럭시S7 ‘불효폰’ G5…분위기 극과극   \n",
       "1      1  20170111  IT_science  디지털타임스        카카오 O2O 플랫폼 사업 윤곽도 못잡아   \n",
       "2      2  20170103     economy    조세일보     동원 고위도高緯度 북대서양 참다랑어 어획 성공   \n",
       "\n",
       "                                            contents  \\\n",
       "0  삼성전자 ‘갤럭시S7’ 왼쪽 LG전자 ‘G5’ 오른쪽 모델 이미지 ⓒ각 사 삼성전자...   \n",
       "1  11월초 공개 O2O 위드 카카오 두달 넘게 모습 드러내지 않아 후발주자로 출시까지...   \n",
       "2  동원산업 대표이사 이명우 은 고위도 高緯度 북대서양 참다랑어를 어획하는데 성공했다고...   \n",
       "\n",
       "                                                link  \\\n",
       "0  https://news.naver.com/main/read.nhn?mode=LSD&...   \n",
       "1  https://news.naver.com/main/read.nhn?mode=LSD&...   \n",
       "2  https://news.naver.com/main/read.nhn?mode=LSD&...   \n",
       "\n",
       "                                         title_token  \n",
       "0  [‘, 효자, 폰, ’, 갤럭시, S, 7, ‘, 폰, ’, G, 5, …, 분위기...  \n",
       "1  [카카오, O, 2, O, 플랫, 폼, 사업, 윤곽, 도, 못, 잡, 아, O-2,...  \n",
       "2  [동원, 고위, 도, 高, 북대서양, 참다랑어, 어획, 성공, 고위-도, 북대서양-...  "
      ]
     },
     "execution_count": 110,
     "metadata": {},
     "output_type": "execute_result"
    }
   ],
   "source": [
    "train.head(3)"
   ]
  },
  {
   "cell_type": "code",
   "execution_count": 111,
   "metadata": {},
   "outputs": [
    {
     "data": {
      "text/html": [
       "<div>\n",
       "<style scoped>\n",
       "    .dataframe tbody tr th:only-of-type {\n",
       "        vertical-align: middle;\n",
       "    }\n",
       "\n",
       "    .dataframe tbody tr th {\n",
       "        vertical-align: top;\n",
       "    }\n",
       "\n",
       "    .dataframe thead th {\n",
       "        text-align: right;\n",
       "    }\n",
       "</style>\n",
       "<table border=\"1\" class=\"dataframe\">\n",
       "  <thead>\n",
       "    <tr style=\"text-align: right;\">\n",
       "      <th></th>\n",
       "      <th>index</th>\n",
       "      <th>date</th>\n",
       "      <th>category</th>\n",
       "      <th>media</th>\n",
       "      <th>title</th>\n",
       "      <th>contents</th>\n",
       "      <th>link</th>\n",
       "      <th>title_token</th>\n",
       "    </tr>\n",
       "  </thead>\n",
       "  <tbody>\n",
       "    <tr>\n",
       "      <th>0</th>\n",
       "      <td>0</td>\n",
       "      <td>20170108</td>\n",
       "      <td>IT_science</td>\n",
       "      <td>데일리안</td>\n",
       "      <td>‘효자폰’ 갤럭시S7 ‘불효폰’ G5…분위기 극과극</td>\n",
       "      <td>삼성전자 ‘갤럭시S7’ 왼쪽 LG전자 ‘G5’ 오른쪽 모델 이미지 ⓒ각 사 삼성전자...</td>\n",
       "      <td>https://news.naver.com/main/read.nhn?mode=LSD&amp;...</td>\n",
       "      <td>[‘/SY, 효자/NNG, 폰/NNG, ’/SY, 갤럭시/NNP, S/SL, 7/S...</td>\n",
       "    </tr>\n",
       "    <tr>\n",
       "      <th>1</th>\n",
       "      <td>1</td>\n",
       "      <td>20170111</td>\n",
       "      <td>IT_science</td>\n",
       "      <td>디지털타임스</td>\n",
       "      <td>카카오 O2O 플랫폼 사업 윤곽도 못잡아</td>\n",
       "      <td>11월초 공개 O2O 위드 카카오 두달 넘게 모습 드러내지 않아 후발주자로 출시까지...</td>\n",
       "      <td>https://news.naver.com/main/read.nhn?mode=LSD&amp;...</td>\n",
       "      <td>[카카오/NNP, O/SL, 2/SN, O/SL, 플랫/NNG, 폼/NNG, 사업/...</td>\n",
       "    </tr>\n",
       "    <tr>\n",
       "      <th>2</th>\n",
       "      <td>2</td>\n",
       "      <td>20170103</td>\n",
       "      <td>economy</td>\n",
       "      <td>조세일보</td>\n",
       "      <td>동원 고위도高緯度 북대서양 참다랑어 어획 성공</td>\n",
       "      <td>동원산업 대표이사 이명우 은 고위도 高緯度 북대서양 참다랑어를 어획하는데 성공했다고...</td>\n",
       "      <td>https://news.naver.com/main/read.nhn?mode=LSD&amp;...</td>\n",
       "      <td>[동원/NNG, 고위/NNG, 도/JX, 高/XPN, 북대서양/NNG, 참다랑어/N...</td>\n",
       "    </tr>\n",
       "  </tbody>\n",
       "</table>\n",
       "</div>"
      ],
      "text/plain": [
       "   index      date    category   media                         title  \\\n",
       "0      0  20170108  IT_science    데일리안  ‘효자폰’ 갤럭시S7 ‘불효폰’ G5…분위기 극과극   \n",
       "1      1  20170111  IT_science  디지털타임스        카카오 O2O 플랫폼 사업 윤곽도 못잡아   \n",
       "2      2  20170103     economy    조세일보     동원 고위도高緯度 북대서양 참다랑어 어획 성공   \n",
       "\n",
       "                                            contents  \\\n",
       "0  삼성전자 ‘갤럭시S7’ 왼쪽 LG전자 ‘G5’ 오른쪽 모델 이미지 ⓒ각 사 삼성전자...   \n",
       "1  11월초 공개 O2O 위드 카카오 두달 넘게 모습 드러내지 않아 후발주자로 출시까지...   \n",
       "2  동원산업 대표이사 이명우 은 고위도 高緯度 북대서양 참다랑어를 어획하는데 성공했다고...   \n",
       "\n",
       "                                                link  \\\n",
       "0  https://news.naver.com/main/read.nhn?mode=LSD&...   \n",
       "1  https://news.naver.com/main/read.nhn?mode=LSD&...   \n",
       "2  https://news.naver.com/main/read.nhn?mode=LSD&...   \n",
       "\n",
       "                                         title_token  \n",
       "0  [‘/SY, 효자/NNG, 폰/NNG, ’/SY, 갤럭시/NNP, S/SL, 7/S...  \n",
       "1  [카카오/NNP, O/SL, 2/SN, O/SL, 플랫/NNG, 폼/NNG, 사업/...  \n",
       "2  [동원/NNG, 고위/NNG, 도/JX, 高/XPN, 북대서양/NNG, 참다랑어/N...  "
      ]
     },
     "execution_count": 111,
     "metadata": {},
     "output_type": "execute_result"
    }
   ],
   "source": [
    "train['title_token'] = train['title'].apply(lambda sent: tokenizer.tokenize(sent))\n",
    "train.head(3)"
   ]
  },
  {
   "cell_type": "code",
   "execution_count": 112,
   "metadata": {
    "scrolled": true
   },
   "outputs": [
    {
     "name": "stdout",
     "output_type": "stream",
     "text": [
      "['‘/SY', '효자/NNG', '폰/NNG', '’/SY', '갤럭시/NNP', 'S/SL', '7/SN', '‘/SY', '폰/NNG', '’/SY', 'G/SL', '5/SN', '…/SE', '분위기/NNG', '극/NNG', '과/JC', '극/NNG', '폰/NNG-’/SY', '갤럭시/NNP-S/SL', 'S/SL-7/SN', '폰/NNG-’/SY', 'G/SL-5/SN']\n"
     ]
    }
   ],
   "source": [
    "print(train['title_token'][0])"
   ]
  },
  {
   "cell_type": "code",
   "execution_count": null,
   "metadata": {},
   "outputs": [],
   "source": []
  }
 ],
 "metadata": {
  "kernelspec": {
   "display_name": "Python 3",
   "language": "python",
   "name": "python3"
  },
  "language_info": {
   "codemirror_mode": {
    "name": "ipython",
    "version": 3
   },
   "file_extension": ".py",
   "mimetype": "text/x-python",
   "name": "python",
   "nbconvert_exporter": "python",
   "pygments_lexer": "ipython3",
   "version": "3.6.10"
  }
 },
 "nbformat": 4,
 "nbformat_minor": 4
}
